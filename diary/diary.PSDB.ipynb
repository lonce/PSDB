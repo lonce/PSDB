{
 "cells": [
  {
   "cell_type": "markdown",
   "metadata": {},
   "source": [
    "2020.05.06\n",
    "\n",
    "PSDB - parameterized sound database. \n",
    "Runs on http://sonicthings.org:9999\n",
    "\n",
    "There are 3 user types envisioned:\n",
    "a) admin - full privaledges to add, delete, modify content\n",
    "b) user  - search and download data\n",
    "c) member - upload new sounds, modify thiers only (not implemented yet)\n",
    "\n",
    "The database is currently set up to be run in two \"modes\" depending on the port number. Any port works for the \"user\". Port 55555 sets a variable that creates a slightly different interface from what is shown to the use (although the code base is *exactly* the same for now. The template uses a variable to create different html for users and admins.\n",
    "\n",
    "I restrict admit access by only allowing my machines access to port 55555: \\\n",
    "iptables -I INPUT -p tcp --dport 55555 -s 202.133.209.92 -j ACCEPT \\\n",
    "sudo iptables -A INPUT -p tcp --dport 55555 -j DROP\n",
    "\n",
    "MongodB - \n",
    "\n",
    "The database can be exported:\\\n",
    "mongoexport --collection=pSoundSets --db=Parameterized-Sound-Sets --out=BK/pSoundSets.json\n",
    "and imported: \n",
    "mongoimport --db Parameterized-Sound-Sets --collection pSoundSets --drop --file BK/pSoundSets1.json \n",
    "\n",
    "(--drop removes all previous data so that the database will only contain the imported data.)\n",
    "\n"
   ]
  },
  {
   "cell_type": "code",
   "execution_count": null,
   "metadata": {},
   "outputs": [],
   "source": []
  },
  {
   "cell_type": "code",
   "execution_count": null,
   "metadata": {},
   "outputs": [],
   "source": []
  }
 ],
 "metadata": {
  "kernelspec": {
   "display_name": "cpuaudio",
   "language": "python",
   "name": "cpuaudio"
  },
  "language_info": {
   "codemirror_mode": {
    "name": "ipython",
    "version": 3
   },
   "file_extension": ".py",
   "mimetype": "text/x-python",
   "name": "python",
   "nbconvert_exporter": "python",
   "pygments_lexer": "ipython3",
   "version": "3.7.3"
  }
 },
 "nbformat": 4,
 "nbformat_minor": 4
}
